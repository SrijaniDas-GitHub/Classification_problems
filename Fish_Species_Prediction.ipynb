{
  "nbformat": 4,
  "nbformat_minor": 0,
  "metadata": {
    "colab": {
      "name": "Fish_Species_Prediction.ipynb",
      "provenance": [],
      "collapsed_sections": [],
      "toc_visible": true,
      "authorship_tag": "ABX9TyPHYcyMf9lnNB7oaQdGqn5Q",
      "include_colab_link": true
    },
    "kernelspec": {
      "name": "python3",
      "display_name": "Python 3"
    }
  },
  "cells": [
    {
      "cell_type": "markdown",
      "metadata": {
        "id": "view-in-github",
        "colab_type": "text"
      },
      "source": [
        "<a href=\"https://colab.research.google.com/github/SrijaniDas-GitHub/Classification_problems/blob/master/Fish_Species_Prediction.ipynb\" target=\"_parent\"><img src=\"https://colab.research.google.com/assets/colab-badge.svg\" alt=\"Open In Colab\"/></a>"
      ]
    },
    {
      "cell_type": "markdown",
      "metadata": {
        "id": "MKd6Udlz_Eji",
        "colab_type": "text"
      },
      "source": [
        "# Source of this dataset"
      ]
    },
    {
      "cell_type": "markdown",
      "metadata": {
        "id": "lPOpHv-TEQFz",
        "colab_type": "text"
      },
      "source": [
        "https://www.kaggle.com/aungpyaeap/fish-market"
      ]
    },
    {
      "cell_type": "markdown",
      "metadata": {
        "id": "c3AAZMBQC2-S",
        "colab_type": "text"
      },
      "source": [
        "# About the data"
      ]
    },
    {
      "cell_type": "markdown",
      "metadata": {
        "id": "Qlj1pS60Em8R",
        "colab_type": "text"
      },
      "source": [
        "Fish Market Dataset contains information about common fish species in market sales. The dataset includes the fish species, weight, length, height, and width. "
      ]
    },
    {
      "cell_type": "markdown",
      "metadata": {
        "id": "tvp25GI8C6Ja",
        "colab_type": "text"
      },
      "source": [
        "# Importing Modules"
      ]
    },
    {
      "cell_type": "code",
      "metadata": {
        "id": "cbxkY0rOEt54",
        "colab_type": "code",
        "colab": {
          "base_uri": "https://localhost:8080/",
          "height": 71
        },
        "outputId": "4462355d-9d99-418d-871b-45917bf44184"
      },
      "source": [
        "import pandas as pd\n",
        "import numpy as np\n",
        "import matplotlib.pyplot as plt\n",
        "import seaborn as sns\n",
        "%matplotlib inline"
      ],
      "execution_count": 1,
      "outputs": [
        {
          "output_type": "stream",
          "text": [
            "/usr/local/lib/python3.6/dist-packages/statsmodels/tools/_testing.py:19: FutureWarning: pandas.util.testing is deprecated. Use the functions in the public API at pandas.testing instead.\n",
            "  import pandas.util.testing as tm\n"
          ],
          "name": "stderr"
        }
      ]
    },
    {
      "cell_type": "markdown",
      "metadata": {
        "id": "W6ZDjKqcC9iI",
        "colab_type": "text"
      },
      "source": [
        "# Loading the data"
      ]
    },
    {
      "cell_type": "code",
      "metadata": {
        "id": "b-EQi8nUEzVS",
        "colab_type": "code",
        "colab": {}
      },
      "source": [
        "fish_data = pd.read_csv(\"/content/Fish data.csv\")"
      ],
      "execution_count": 2,
      "outputs": []
    },
    {
      "cell_type": "code",
      "metadata": {
        "id": "XiQ4e0i0E9n1",
        "colab_type": "code",
        "colab": {
          "base_uri": "https://localhost:8080/",
          "height": 111
        },
        "outputId": "f770bcf9-5392-4578-b28f-dde99e502890"
      },
      "source": [
        "fish_data.head(2)"
      ],
      "execution_count": 3,
      "outputs": [
        {
          "output_type": "execute_result",
          "data": {
            "text/html": [
              "<div>\n",
              "<style scoped>\n",
              "    .dataframe tbody tr th:only-of-type {\n",
              "        vertical-align: middle;\n",
              "    }\n",
              "\n",
              "    .dataframe tbody tr th {\n",
              "        vertical-align: top;\n",
              "    }\n",
              "\n",
              "    .dataframe thead th {\n",
              "        text-align: right;\n",
              "    }\n",
              "</style>\n",
              "<table border=\"1\" class=\"dataframe\">\n",
              "  <thead>\n",
              "    <tr style=\"text-align: right;\">\n",
              "      <th></th>\n",
              "      <th>Species</th>\n",
              "      <th>Weight</th>\n",
              "      <th>Length1</th>\n",
              "      <th>Length2</th>\n",
              "      <th>Length3</th>\n",
              "      <th>Height</th>\n",
              "      <th>Width</th>\n",
              "    </tr>\n",
              "  </thead>\n",
              "  <tbody>\n",
              "    <tr>\n",
              "      <th>0</th>\n",
              "      <td>Bream</td>\n",
              "      <td>242.0</td>\n",
              "      <td>23.2</td>\n",
              "      <td>25.4</td>\n",
              "      <td>30.0</td>\n",
              "      <td>11.52</td>\n",
              "      <td>4.0200</td>\n",
              "    </tr>\n",
              "    <tr>\n",
              "      <th>1</th>\n",
              "      <td>Bream</td>\n",
              "      <td>290.0</td>\n",
              "      <td>24.0</td>\n",
              "      <td>26.3</td>\n",
              "      <td>31.2</td>\n",
              "      <td>12.48</td>\n",
              "      <td>4.3056</td>\n",
              "    </tr>\n",
              "  </tbody>\n",
              "</table>\n",
              "</div>"
            ],
            "text/plain": [
              "  Species  Weight  Length1  Length2  Length3  Height   Width\n",
              "0   Bream   242.0     23.2     25.4     30.0   11.52  4.0200\n",
              "1   Bream   290.0     24.0     26.3     31.2   12.48  4.3056"
            ]
          },
          "metadata": {
            "tags": []
          },
          "execution_count": 3
        }
      ]
    },
    {
      "cell_type": "code",
      "metadata": {
        "id": "2c70GDiCFCSr",
        "colab_type": "code",
        "colab": {
          "base_uri": "https://localhost:8080/",
          "height": 255
        },
        "outputId": "275e68a6-a136-42a1-94fb-2043fb95172a"
      },
      "source": [
        "fish_data.info()"
      ],
      "execution_count": 4,
      "outputs": [
        {
          "output_type": "stream",
          "text": [
            "<class 'pandas.core.frame.DataFrame'>\n",
            "RangeIndex: 159 entries, 0 to 158\n",
            "Data columns (total 7 columns):\n",
            " #   Column   Non-Null Count  Dtype  \n",
            "---  ------   --------------  -----  \n",
            " 0   Species  159 non-null    object \n",
            " 1   Weight   159 non-null    float64\n",
            " 2   Length1  159 non-null    float64\n",
            " 3   Length2  159 non-null    float64\n",
            " 4   Length3  159 non-null    float64\n",
            " 5   Height   159 non-null    float64\n",
            " 6   Width    159 non-null    float64\n",
            "dtypes: float64(6), object(1)\n",
            "memory usage: 8.8+ KB\n"
          ],
          "name": "stdout"
        }
      ]
    },
    {
      "cell_type": "code",
      "metadata": {
        "id": "dpjZvc2CFGvZ",
        "colab_type": "code",
        "colab": {
          "base_uri": "https://localhost:8080/",
          "height": 297
        },
        "outputId": "21a740fc-fc49-46b2-e02b-d5c882a77b77"
      },
      "source": [
        "fish_data.groupby('Species').mean()"
      ],
      "execution_count": 5,
      "outputs": [
        {
          "output_type": "execute_result",
          "data": {
            "text/html": [
              "<div>\n",
              "<style scoped>\n",
              "    .dataframe tbody tr th:only-of-type {\n",
              "        vertical-align: middle;\n",
              "    }\n",
              "\n",
              "    .dataframe tbody tr th {\n",
              "        vertical-align: top;\n",
              "    }\n",
              "\n",
              "    .dataframe thead th {\n",
              "        text-align: right;\n",
              "    }\n",
              "</style>\n",
              "<table border=\"1\" class=\"dataframe\">\n",
              "  <thead>\n",
              "    <tr style=\"text-align: right;\">\n",
              "      <th></th>\n",
              "      <th>Weight</th>\n",
              "      <th>Length1</th>\n",
              "      <th>Length2</th>\n",
              "      <th>Length3</th>\n",
              "      <th>Height</th>\n",
              "      <th>Width</th>\n",
              "    </tr>\n",
              "    <tr>\n",
              "      <th>Species</th>\n",
              "      <th></th>\n",
              "      <th></th>\n",
              "      <th></th>\n",
              "      <th></th>\n",
              "      <th></th>\n",
              "      <th></th>\n",
              "    </tr>\n",
              "  </thead>\n",
              "  <tbody>\n",
              "    <tr>\n",
              "      <th>Bream</th>\n",
              "      <td>617.828571</td>\n",
              "      <td>30.305714</td>\n",
              "      <td>33.108571</td>\n",
              "      <td>38.354286</td>\n",
              "      <td>15.183211</td>\n",
              "      <td>5.427614</td>\n",
              "    </tr>\n",
              "    <tr>\n",
              "      <th>Parkki</th>\n",
              "      <td>154.818182</td>\n",
              "      <td>18.727273</td>\n",
              "      <td>20.345455</td>\n",
              "      <td>22.790909</td>\n",
              "      <td>8.962427</td>\n",
              "      <td>3.220736</td>\n",
              "    </tr>\n",
              "    <tr>\n",
              "      <th>Perch</th>\n",
              "      <td>382.239286</td>\n",
              "      <td>25.735714</td>\n",
              "      <td>27.892857</td>\n",
              "      <td>29.571429</td>\n",
              "      <td>7.861870</td>\n",
              "      <td>4.745723</td>\n",
              "    </tr>\n",
              "    <tr>\n",
              "      <th>Pike</th>\n",
              "      <td>718.705882</td>\n",
              "      <td>42.476471</td>\n",
              "      <td>45.482353</td>\n",
              "      <td>48.717647</td>\n",
              "      <td>7.713771</td>\n",
              "      <td>5.086382</td>\n",
              "    </tr>\n",
              "    <tr>\n",
              "      <th>Roach</th>\n",
              "      <td>152.050000</td>\n",
              "      <td>20.645000</td>\n",
              "      <td>22.275000</td>\n",
              "      <td>24.970000</td>\n",
              "      <td>6.694795</td>\n",
              "      <td>3.657850</td>\n",
              "    </tr>\n",
              "    <tr>\n",
              "      <th>Smelt</th>\n",
              "      <td>11.178571</td>\n",
              "      <td>11.257143</td>\n",
              "      <td>11.921429</td>\n",
              "      <td>13.035714</td>\n",
              "      <td>2.209371</td>\n",
              "      <td>1.340093</td>\n",
              "    </tr>\n",
              "    <tr>\n",
              "      <th>Whitefish</th>\n",
              "      <td>531.000000</td>\n",
              "      <td>28.800000</td>\n",
              "      <td>31.316667</td>\n",
              "      <td>34.316667</td>\n",
              "      <td>10.027167</td>\n",
              "      <td>5.473050</td>\n",
              "    </tr>\n",
              "  </tbody>\n",
              "</table>\n",
              "</div>"
            ],
            "text/plain": [
              "               Weight    Length1    Length2    Length3     Height     Width\n",
              "Species                                                                    \n",
              "Bream      617.828571  30.305714  33.108571  38.354286  15.183211  5.427614\n",
              "Parkki     154.818182  18.727273  20.345455  22.790909   8.962427  3.220736\n",
              "Perch      382.239286  25.735714  27.892857  29.571429   7.861870  4.745723\n",
              "Pike       718.705882  42.476471  45.482353  48.717647   7.713771  5.086382\n",
              "Roach      152.050000  20.645000  22.275000  24.970000   6.694795  3.657850\n",
              "Smelt       11.178571  11.257143  11.921429  13.035714   2.209371  1.340093\n",
              "Whitefish  531.000000  28.800000  31.316667  34.316667  10.027167  5.473050"
            ]
          },
          "metadata": {
            "tags": []
          },
          "execution_count": 5
        }
      ]
    },
    {
      "cell_type": "markdown",
      "metadata": {
        "id": "qiGeLB2VDI9W",
        "colab_type": "text"
      },
      "source": [
        "# Visualizing Data"
      ]
    },
    {
      "cell_type": "code",
      "metadata": {
        "id": "_GL6aELLFS4K",
        "colab_type": "code",
        "colab": {
          "base_uri": "https://localhost:8080/",
          "height": 296
        },
        "outputId": "5bb04a75-28d1-4eb2-f08a-2ad2c1a042ab"
      },
      "source": [
        "sns.scatterplot(fish_data['Weight'], fish_data['Height'], hue=fish_data['Species'])"
      ],
      "execution_count": 6,
      "outputs": [
        {
          "output_type": "execute_result",
          "data": {
            "text/plain": [
              "<matplotlib.axes._subplots.AxesSubplot at 0x7fc860410908>"
            ]
          },
          "metadata": {
            "tags": []
          },
          "execution_count": 6
        },
        {
          "output_type": "display_data",
          "data": {
            "image/png": "[encoded data removed]",
            "text/plain": [
              "<Figure size 432x288 with 1 Axes>"
            ]
          },
          "metadata": {
            "tags": [],
            "needs_background": "light"
          }
        }
      ]
    },
    {
      "cell_type": "markdown",
      "metadata": {
        "id": "ylv7WjAFDRsr",
        "colab_type": "text"
      },
      "source": [
        "# Splitting the data for training and testing"
      ]
    },
    {
      "cell_type": "code",
      "metadata": {
        "id": "Sh9JD6zMF5-y",
        "colab_type": "code",
        "colab": {}
      },
      "source": [
        "X = fish_data.drop('Species', axis=1)\n",
        "y = fish_data['Species']\n",
        "\n",
        "from sklearn.model_selection import train_test_split\n",
        "X_train, X_test, y_train, y_test = train_test_split(X, y, test_size=0.2, random_state=42)"
      ],
      "execution_count": 7,
      "outputs": []
    },
    {
      "cell_type": "markdown",
      "metadata": {
        "id": "_q5Nf1hbDaDh",
        "colab_type": "text"
      },
      "source": [
        "# Feature Scaling"
      ]
    },
    {
      "cell_type": "code",
      "metadata": {
        "id": "OMHH9ve-GnNb",
        "colab_type": "code",
        "colab": {}
      },
      "source": [
        "from sklearn.preprocessing import StandardScaler\n",
        "ss = StandardScaler()\n",
        "ss.fit(X_train)\n",
        "X_train_scaled = ss.transform(X_train)\n",
        "X_test_scaled = ss.transform(X_test)"
      ],
      "execution_count": 8,
      "outputs": []
    },
    {
      "cell_type": "markdown",
      "metadata": {
        "id": "NzE7ghJoHJ4v",
        "colab_type": "text"
      },
      "source": [
        "# Model Evaluating"
      ]
    },
    {
      "cell_type": "code",
      "metadata": {
        "id": "6inFvNuPHNaM",
        "colab_type": "code",
        "colab": {}
      },
      "source": [
        "from sklearn.metrics import accuracy_score, classification_report, confusion_matrix"
      ],
      "execution_count": 14,
      "outputs": []
    },
    {
      "cell_type": "code",
      "metadata": {
        "id": "J7myDDvjHcRy",
        "colab_type": "code",
        "colab": {}
      },
      "source": [
        "def evaluate_model_performance(y_test, y_pred):\n",
        "  print(accuracy_score(y_test, y_pred))\n",
        "  print(confusion_matrix(y_test, y_pred))\n",
        "  print(classification_report(y_test, y_pred))"
      ],
      "execution_count": 15,
      "outputs": []
    },
    {
      "cell_type": "markdown",
      "metadata": {
        "id": "qH_HseJNDhl1",
        "colab_type": "text"
      },
      "source": [
        "# Decision Tree Classification"
      ]
    },
    {
      "cell_type": "code",
      "metadata": {
        "id": "3H0GMEYjJ-PB",
        "colab_type": "code",
        "colab": {
          "base_uri": "https://localhost:8080/",
          "height": 391
        },
        "outputId": "ee7ff0d4-f70d-435c-854f-694d6efdbd31"
      },
      "source": [
        "from sklearn.tree import DecisionTreeClassifier\n",
        "model = DecisionTreeClassifier()\n",
        "model.fit(X_train, y_train)\n",
        "y_pred = model.predict(X_test)\n",
        "\n",
        "evaluate_model_performance(y_test, y_pred)"
      ],
      "execution_count": 24,
      "outputs": [
        {
          "output_type": "stream",
          "text": [
            "0.78125\n",
            "[[9 0 1 0 0 0 0]\n",
            " [0 1 0 0 0 0 0]\n",
            " [0 0 5 0 4 0 0]\n",
            " [0 0 0 3 0 0 0]\n",
            " [0 0 0 0 1 0 0]\n",
            " [0 0 0 0 0 5 0]\n",
            " [0 0 0 0 2 0 1]]\n",
            "              precision    recall  f1-score   support\n",
            "\n",
            "       Bream       1.00      0.90      0.95        10\n",
            "      Parkki       1.00      1.00      1.00         1\n",
            "       Perch       0.83      0.56      0.67         9\n",
            "        Pike       1.00      1.00      1.00         3\n",
            "       Roach       0.14      1.00      0.25         1\n",
            "       Smelt       1.00      1.00      1.00         5\n",
            "   Whitefish       1.00      0.33      0.50         3\n",
            "\n",
            "    accuracy                           0.78        32\n",
            "   macro avg       0.85      0.83      0.77        32\n",
            "weighted avg       0.93      0.78      0.82        32\n",
            "\n"
          ],
          "name": "stdout"
        }
      ]
    },
    {
      "cell_type": "markdown",
      "metadata": {
        "id": "_1Sj8ZBxDltC",
        "colab_type": "text"
      },
      "source": [
        "# Random Forest Classification"
      ]
    },
    {
      "cell_type": "code",
      "metadata": {
        "id": "Pl5rdwI6KFwu",
        "colab_type": "code",
        "colab": {
          "base_uri": "https://localhost:8080/",
          "height": 445
        },
        "outputId": "95d2f0e8-4bcb-4e02-dd21-9ee6a24d9b7b"
      },
      "source": [
        "from sklearn.ensemble import RandomForestClassifier\n",
        "model = RandomForestClassifier()\n",
        "model.fit(X_train, y_train)\n",
        "y_pred = model.predict(X_test)\n",
        "\n",
        "evaluate_model_performance(y_test, y_pred)"
      ],
      "execution_count": 25,
      "outputs": [
        {
          "output_type": "stream",
          "text": [
            "0.78125\n",
            "[[10  0  0  0  0  0  0]\n",
            " [ 0  1  0  0  0  0  0]\n",
            " [ 0  0  6  0  3  0  0]\n",
            " [ 0  0  0  3  0  0  0]\n",
            " [ 0  0  1  0  0  0  0]\n",
            " [ 0  0  0  0  0  5  0]\n",
            " [ 0  0  1  0  2  0  0]]\n",
            "              precision    recall  f1-score   support\n",
            "\n",
            "       Bream       1.00      1.00      1.00        10\n",
            "      Parkki       1.00      1.00      1.00         1\n",
            "       Perch       0.75      0.67      0.71         9\n",
            "        Pike       1.00      1.00      1.00         3\n",
            "       Roach       0.00      0.00      0.00         1\n",
            "       Smelt       1.00      1.00      1.00         5\n",
            "   Whitefish       0.00      0.00      0.00         3\n",
            "\n",
            "    accuracy                           0.78        32\n",
            "   macro avg       0.68      0.67      0.67        32\n",
            "weighted avg       0.80      0.78      0.79        32\n",
            "\n"
          ],
          "name": "stdout"
        },
        {
          "output_type": "stream",
          "text": [
            "/usr/local/lib/python3.6/dist-packages/sklearn/metrics/_classification.py:1272: UndefinedMetricWarning: Precision and F-score are ill-defined and being set to 0.0 in labels with no predicted samples. Use `zero_division` parameter to control this behavior.\n",
            "  _warn_prf(average, modifier, msg_start, len(result))\n"
          ],
          "name": "stderr"
        }
      ]
    },
    {
      "cell_type": "markdown",
      "metadata": {
        "id": "44JW544vD0Mj",
        "colab_type": "text"
      },
      "source": [
        "# KNN Classifier"
      ]
    },
    {
      "cell_type": "code",
      "metadata": {
        "id": "rTJWQlFaHkpx",
        "colab_type": "code",
        "colab": {
          "base_uri": "https://localhost:8080/",
          "height": 421
        },
        "outputId": "ca714c35-ebaa-45b5-83ee-40ccbd9c42a2"
      },
      "source": [
        "from sklearn.neighbors import KNeighborsClassifier\n",
        "\n",
        "# Calculating the K value for the best performance\n",
        "error_rate = []\n",
        "\n",
        "for i in range(1,40):\n",
        "    model = KNeighborsClassifier(n_neighbors=i)\n",
        "    model.fit(X_train_scaled,y_train)\n",
        "    pred_i = model.predict(X_test_scaled)\n",
        "    error_rate.append(np.mean(pred_i != y_test))\n",
        "\n",
        "plt.figure(figsize=(10,6))\n",
        "plt.plot(range(1,40),error_rate,color='blue', linestyle='dashed', marker='o',\n",
        "         markerfacecolor='red', markersize=10)\n",
        "plt.title('Error Rate vs. K Value')\n",
        "plt.xlabel('K')\n",
        "plt.ylabel('Error Rate')"
      ],
      "execution_count": 11,
      "outputs": [
        {
          "output_type": "execute_result",
          "data": {
            "text/plain": [
              "Text(0, 0.5, 'Error Rate')"
            ]
          },
          "metadata": {
            "tags": []
          },
          "execution_count": 11
        },
        {
          "output_type": "display_data",
          "data": {
            "image/png": "[encoded data removed]",
            "text/plain": [
              "<Figure size 720x432 with 1 Axes>"
            ]
          },
          "metadata": {
            "tags": [],
            "needs_background": "light"
          }
        }
      ]
    },
    {
      "cell_type": "code",
      "metadata": {
        "id": "wAuMTVkuICk1",
        "colab_type": "code",
        "colab": {
          "base_uri": "https://localhost:8080/",
          "height": 445
        },
        "outputId": "15ace8b1-453c-4004-d57d-a7a548b8fead"
      },
      "source": [
        "knn = KNeighborsClassifier(n_neighbors=5)\n",
        "knn.fit(X_train_scaled, y_train)\n",
        "y_pred = knn.predict(X_test_scaled)\n",
        "\n",
        "evaluate_model_performance(y_test, y_pred)"
      ],
      "execution_count": 16,
      "outputs": [
        {
          "output_type": "stream",
          "text": [
            "0.875\n",
            "[[10  0  0  0  0  0  0]\n",
            " [ 0  1  0  0  0  0  0]\n",
            " [ 0  0  8  0  1  0  0]\n",
            " [ 0  0  0  3  0  0  0]\n",
            " [ 0  0  0  0  1  0  0]\n",
            " [ 0  0  0  0  0  5  0]\n",
            " [ 0  0  3  0  0  0  0]]\n",
            "              precision    recall  f1-score   support\n",
            "\n",
            "       Bream       1.00      1.00      1.00        10\n",
            "      Parkki       1.00      1.00      1.00         1\n",
            "       Perch       0.73      0.89      0.80         9\n",
            "        Pike       1.00      1.00      1.00         3\n",
            "       Roach       0.50      1.00      0.67         1\n",
            "       Smelt       1.00      1.00      1.00         5\n",
            "   Whitefish       0.00      0.00      0.00         3\n",
            "\n",
            "    accuracy                           0.88        32\n",
            "   macro avg       0.75      0.84      0.78        32\n",
            "weighted avg       0.81      0.88      0.84        32\n",
            "\n"
          ],
          "name": "stdout"
        },
        {
          "output_type": "stream",
          "text": [
            "/usr/local/lib/python3.6/dist-packages/sklearn/metrics/_classification.py:1272: UndefinedMetricWarning: Precision and F-score are ill-defined and being set to 0.0 in labels with no predicted samples. Use `zero_division` parameter to control this behavior.\n",
            "  _warn_prf(average, modifier, msg_start, len(result))\n"
          ],
          "name": "stderr"
        }
      ]
    },
    {
      "cell_type": "code",
      "metadata": {
        "id": "258QEOEsJJN3",
        "colab_type": "code",
        "colab": {
          "base_uri": "https://localhost:8080/",
          "height": 221
        },
        "outputId": "6a3d7e4e-a442-4d34-89fe-980dd2a64aac"
      },
      "source": [
        "comparing_result = pd.DataFrame(columns=['original species', 'predicted species'])\n",
        "comparing_result['original species'] = y_test\n",
        "comparing_result['predicted species'] = y_pred\n",
        "\n",
        "for i in comparing_result.index:\n",
        "    if comparing_result['original species'][i] != comparing_result['predicted species'][i]:\n",
        "        print(comparing_result.loc[i])"
      ],
      "execution_count": 23,
      "outputs": [
        {
          "output_type": "stream",
          "text": [
            "original species     Whitefish\n",
            "predicted species        Perch\n",
            "Name: 55, dtype: object\n",
            "original species     Whitefish\n",
            "predicted species        Perch\n",
            "Name: 60, dtype: object\n",
            "original species     Perch\n",
            "predicted species    Roach\n",
            "Name: 96, dtype: object\n",
            "original species     Whitefish\n",
            "predicted species        Perch\n",
            "Name: 56, dtype: object\n"
          ],
          "name": "stdout"
        }
      ]
    },
    {
      "cell_type": "markdown",
      "metadata": {
        "id": "4Qx7LDbIDohO",
        "colab_type": "text"
      },
      "source": [
        "# Conclusion"
      ]
    },
    {
      "cell_type": "markdown",
      "metadata": {
        "id": "ZBJRP1puKNgr",
        "colab_type": "text"
      },
      "source": [
        "We will use KNN Classifier for this data, here we have got highest accuracy of 87%"
      ]
    }
  ]
}