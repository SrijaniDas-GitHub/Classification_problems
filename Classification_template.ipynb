{
  "nbformat": 4,
  "nbformat_minor": 0,
  "metadata": {
    "colab": {
      "name": "Classification_template.ipynb",
      "provenance": [],
      "collapsed_sections": [],
      "authorship_tag": "ABX9TyN+OmmxzztFHnXjoWw9KnHT",
      "include_colab_link": true
    },
    "kernelspec": {
      "name": "python3",
      "display_name": "Python 3"
    }
  },
  "cells": [
    {
      "cell_type": "markdown",
      "metadata": {
        "id": "view-in-github",
        "colab_type": "text"
      },
      "source": [
        "<a href=\"https://colab.research.google.com/github/SrijaniDas-GitHub/Classification_problems/blob/master/Classification_template.ipynb\" target=\"_parent\"><img src=\"https://colab.research.google.com/assets/colab-badge.svg\" alt=\"Open In Colab\"/></a>"
      ]
    },
    {
      "cell_type": "markdown",
      "metadata": {
        "id": "MKd6Udlz_Eji",
        "colab_type": "text"
      },
      "source": [
        "# Source of this dataset"
      ]
    },
    {
      "cell_type": "markdown",
      "metadata": {
        "id": "c3AAZMBQC2-S",
        "colab_type": "text"
      },
      "source": [
        "# About the data"
      ]
    },
    {
      "cell_type": "markdown",
      "metadata": {
        "id": "tvp25GI8C6Ja",
        "colab_type": "text"
      },
      "source": [
        "# Importing Modules"
      ]
    },
    {
      "cell_type": "markdown",
      "metadata": {
        "id": "W6ZDjKqcC9iI",
        "colab_type": "text"
      },
      "source": [
        "# Loading the data"
      ]
    },
    {
      "cell_type": "markdown",
      "metadata": {
        "id": "BjlIEQj1DErL",
        "colab_type": "text"
      },
      "source": [
        "# Drop Unnecessary Features "
      ]
    },
    {
      "cell_type": "markdown",
      "metadata": {
        "id": "qiGeLB2VDI9W",
        "colab_type": "text"
      },
      "source": [
        "# Visualizing Data"
      ]
    },
    {
      "cell_type": "markdown",
      "metadata": {
        "id": "2vRI9bb1DN7c",
        "colab_type": "text"
      },
      "source": [
        "# Encoding Categorical Data"
      ]
    },
    {
      "cell_type": "markdown",
      "metadata": {
        "id": "ylv7WjAFDRsr",
        "colab_type": "text"
      },
      "source": [
        "# Splitting the data for training and testing"
      ]
    },
    {
      "cell_type": "markdown",
      "metadata": {
        "id": "glMcEwI3DWzk",
        "colab_type": "text"
      },
      "source": [
        "# Handling Missing Values"
      ]
    },
    {
      "cell_type": "markdown",
      "metadata": {
        "id": "_q5Nf1hbDaDh",
        "colab_type": "text"
      },
      "source": [
        "# Feature Scaling"
      ]
    },
    {
      "cell_type": "markdown",
      "metadata": {
        "id": "0IH98-soGak1",
        "colab_type": "text"
      },
      "source": [
        "# Model evaluating"
      ]
    },
    {
      "cell_type": "markdown",
      "metadata": {
        "id": "5UutWH6ODfs4",
        "colab_type": "text"
      },
      "source": [
        "# Logistic Regression"
      ]
    },
    {
      "cell_type": "markdown",
      "metadata": {
        "id": "qH_HseJNDhl1",
        "colab_type": "text"
      },
      "source": [
        "# Decision Tree Classification"
      ]
    },
    {
      "cell_type": "markdown",
      "metadata": {
        "id": "_1Sj8ZBxDltC",
        "colab_type": "text"
      },
      "source": [
        "# Random Forest Classification"
      ]
    },
    {
      "cell_type": "markdown",
      "metadata": {
        "id": "uXHWIn_-Dwao",
        "colab_type": "text"
      },
      "source": [
        "# Naive Bayes Classifier\n"
      ]
    },
    {
      "cell_type": "markdown",
      "metadata": {
        "id": "44JW544vD0Mj",
        "colab_type": "text"
      },
      "source": [
        "# KNN Classifier"
      ]
    },
    {
      "cell_type": "markdown",
      "metadata": {
        "id": "4Qx7LDbIDohO",
        "colab_type": "text"
      },
      "source": [
        "# Conclusion"
      ]
    }
  ]
}